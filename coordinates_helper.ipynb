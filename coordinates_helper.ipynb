{
 "cells": [
  {
   "cell_type": "code",
   "execution_count": null,
   "id": "620352a9-0b51-45a7-ba38-65fdc0a0de57",
   "metadata": {},
   "outputs": [],
   "source": [
    "import imghdr\n",
    "import os\n",
    "\n",
    "import cv2\n",
    "\n",
    "\n",
    "def coordinates_helper(src: str) -> None:\n",
    "    def on_event_lbuttondown(event, x, y, flags, param):\n",
    "        if event == cv2.EVENT_LBUTTONDOWN:\n",
    "            cv2.circle(img, (x, y), 1, (0, 0, 255), thickness=2)\n",
    "            cv2.putText(\n",
    "                img,\n",
    "                f\"{x}, {y}\",\n",
    "                (x, y),\n",
    "                cv2.FONT_HERSHEY_SIMPLEX,\n",
    "                1.0,\n",
    "                (0, 0, 0),\n",
    "                thickness=2,\n",
    "            )\n",
    "            cv2.imshow(\"image\", img)\n",
    "\n",
    "    img = cv2.imread(src)\n",
    "    print(img.shape)\n",
    "\n",
    "    cv2.namedWindow(\"image\", 0)\n",
    "    cv2.setMouseCallback(\"image\", on_event_lbuttondown)\n",
    "    while 1:\n",
    "        cv2.imshow(\"image\", img)\n",
    "        if cv2.waitKey(0) & 0xFF == 27:\n",
    "            break\n",
    "    cv2.destroyAllWindows()\n",
    "\n",
    "\n",
    "# Override Your Image Path Here.\n",
    "img_path = ''\n",
    "assert os.path.isfile(img_path) and imghdr.what(img_path) in [\n",
    "    \"tiff\",\n",
    "    \"jpeg\",\n",
    "    \"bmp\",\n",
    "    \"png\",\n",
    "]\n",
    "coordinates_helper(src=img_path)\n"
   ]
  }
 ],
 "metadata": {
  "kernelspec": {
   "display_name": "Python 3",
   "language": "python",
   "name": "python3"
  },
  "language_info": {
   "codemirror_mode": {
    "name": "ipython",
    "version": 3
   },
   "file_extension": ".py",
   "mimetype": "text/x-python",
   "name": "python",
   "nbconvert_exporter": "python",
   "pygments_lexer": "ipython3",
   "version": "3.7.10"
  }
 },
 "nbformat": 4,
 "nbformat_minor": 5
}
